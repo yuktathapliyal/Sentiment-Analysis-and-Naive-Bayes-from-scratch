{
  "nbformat": 4,
  "nbformat_minor": 0,
  "metadata": {
    "colab": {
      "name": "Copy of 551_2_v5.ipynb",
      "provenance": [],
      "collapsed_sections": []
    },
    "kernelspec": {
      "name": "python3",
      "display_name": "Python 3"
    }
  },
  "cells": [
    {
      "cell_type": "code",
      "metadata": {
        "id": "hQzCy584eF_Y",
        "outputId": "52a6ac36-90c7-4181-91c8-6e2089092efc",
        "colab": {
          "base_uri": "https://localhost:8080/"
        }
      },
      "source": [
        "import pandas as pd\n",
        "import numpy as np\n",
        "from google.colab import files\n",
        "import io\n",
        "from sklearn.preprocessing import Normalizer\n",
        "from sklearn.feature_extraction import text \n",
        "from sklearn.feature_extraction.text import CountVectorizer, TfidfTransformer, TfidfVectorizer\n",
        "from sklearn.pipeline import Pipeline, make_pipeline\n",
        "from sklearn.model_selection import GridSearchCV, cross_val_score, train_test_split\n",
        "from sklearn.tree import DecisionTreeClassifier\n",
        "from sklearn.naive_bayes import MultinomialNB, GaussianNB, BernoulliNB\n",
        "from sklearn.ensemble import BaggingClassifier, RandomForestClassifier, StackingClassifier, AdaBoostClassifier\n",
        "from sklearn.neighbors import KNeighborsClassifier\n",
        "from sklearn.linear_model import Perceptron, LogisticRegression, SGDClassifier\n",
        "from sklearn.svm import LinearSVC\n",
        "from sklearn.metrics import classification_report,accuracy_score\n",
        "from google.colab import files\n",
        "!pip install nltk\n",
        "import nltk\n",
        "nltk.download('punkt')\n",
        "nltk.download('wordnet')\n",
        "nltk.download('averaged_perceptron_tagger')\n",
        "nltk.download('omw')\n",
        "from nltk import word_tokenize          \n",
        "from nltk.stem import WordNetLemmatizer \n",
        "from nltk.corpus import wordnet"
      ],
      "execution_count": null,
      "outputs": [
        {
          "output_type": "stream",
          "text": [
            "Requirement already satisfied: nltk in /usr/local/lib/python3.6/dist-packages (3.2.5)\n",
            "Requirement already satisfied: six in /usr/local/lib/python3.6/dist-packages (from nltk) (1.15.0)\n",
            "[nltk_data] Downloading package punkt to /root/nltk_data...\n",
            "[nltk_data]   Unzipping tokenizers/punkt.zip.\n",
            "[nltk_data] Downloading package wordnet to /root/nltk_data...\n",
            "[nltk_data]   Unzipping corpora/wordnet.zip.\n",
            "[nltk_data] Downloading package averaged_perceptron_tagger to\n",
            "[nltk_data]     /root/nltk_data...\n",
            "[nltk_data]   Unzipping taggers/averaged_perceptron_tagger.zip.\n",
            "[nltk_data] Downloading package omw to /root/nltk_data...\n",
            "[nltk_data]   Unzipping corpora/omw.zip.\n"
          ],
          "name": "stdout"
        }
      ]
    },
    {
      "cell_type": "markdown",
      "metadata": {
        "id": "oXirFfDHRplY"
      },
      "source": [
        "## **1.Data Preprocessing**"
      ]
    },
    {
      "cell_type": "code",
      "metadata": {
        "id": "PlkpME5eXb00",
        "outputId": "fc2c7118-fc1e-4bea-a4ff-ca19aeed1652",
        "colab": {
          "resources": {
            "http://localhost:8080/nbextensions/google.colab/files.js": {
              "data": "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",
              "ok": true,
              "headers": [
                [
                  "content-type",
                  "application/javascript"
                ]
              ],
              "status": 200,
              "status_text": ""
            }
          },
          "base_uri": "https://localhost:8080/",
          "height": 108
        }
      },
      "source": [
        "\"\"\"\n",
        "1. Selectthe files train and test files to upload. (Modify the file names accordingly; train.csv and test.csv take here)\n",
        "2. Importing stopwords from text.ENGLISH_STOP_WORDS and modifying the set to store in my_stop_words\n",
        "3. Lemmatization method from class tutorial to take Adjectives, nouns, verbs and adverbs\n",
        "\n",
        "\"\"\"\n",
        "data_to_load = files.upload()\n",
        "df_train = pd.read_csv(io.BytesIO(data_to_load['train.csv']))\n",
        "df_test = pd.read_csv(io.BytesIO(data_to_load['test.csv']))\n",
        "X_train = df_train['body']\n",
        "y_train = df_train['subreddit']\n",
        "X_test = df_test['body']\n",
        "\n",
        "########################################################################################\n",
        "\n",
        "stop_words_set = text.ENGLISH_STOP_WORDS\n",
        "my_stop_words = ['far','make','u']\n",
        "for word in stop_words_set:\n",
        "  my_stop_words.append(word)\n",
        "def get_wordnet_pos(word):\n",
        "    \"\"\"Map POS tag to first character lemmatize() accepts\"\"\"\n",
        "    tag = nltk.pos_tag([word])[0][1][0].upper()\n",
        "    tag_dict = {\"J\": wordnet.ADJ,\n",
        "                \"N\": wordnet.NOUN,\n",
        "                \"V\": wordnet.VERB,\n",
        "                \"R\": wordnet.ADV}\n",
        "    return tag_dict.get(tag, wordnet.NOUN)\n",
        "class New_LemmaTokenizer:\n",
        "     def __init__(self):\n",
        "       self.wnl = WordNetLemmatizer()\n",
        "     def __call__(self, doc):\n",
        "       return [self.wnl.lemmatize(t,pos =get_wordnet_pos(t)) for t in word_tokenize(doc) if t.isalpha()]"
      ],
      "execution_count": null,
      "outputs": [
        {
          "output_type": "display_data",
          "data": {
            "text/html": [
              "\n",
              "     <input type=\"file\" id=\"files-3e613937-f649-40b0-a5e4-58d5614da741\" name=\"files[]\" multiple disabled\n",
              "        style=\"border:none\" />\n",
              "     <output id=\"result-3e613937-f649-40b0-a5e4-58d5614da741\">\n",
              "      Upload widget is only available when the cell has been executed in the\n",
              "      current browser session. Please rerun this cell to enable.\n",
              "      </output>\n",
              "      <script src=\"/nbextensions/google.colab/files.js\"></script> "
            ],
            "text/plain": [
              "<IPython.core.display.HTML object>"
            ]
          },
          "metadata": {
            "tags": []
          }
        },
        {
          "output_type": "stream",
          "text": [
            "Saving test.csv to test (1).csv\n",
            "Saving train.csv to train (1).csv\n"
          ],
          "name": "stdout"
        }
      ]
    },
    {
      "cell_type": "markdown",
      "metadata": {
        "id": "lLjLRZLTwod3"
      },
      "source": [
        "# **2. Models**"
      ]
    },
    {
      "cell_type": "markdown",
      "metadata": {
        "id": "opsnGP23ww3L"
      },
      "source": [
        "# **A. Comparson of all models**\n"
      ]
    },
    {
      "cell_type": "markdown",
      "metadata": {
        "id": "StvbLHwcw5zo"
      },
      "source": [
        "We quickly run suitable classifiers to find their accuracies and other metrics"
      ]
    },
    {
      "cell_type": "code",
      "metadata": {
        "id": "AUi6Tq4ownUr"
      },
      "source": [
        "\"\"\"\n",
        "Using train_test_split to split traing data into two parts: 80% train and 20% test.\n",
        "This method is preferred to Cross validation to save time.\n",
        "\n",
        "\"\"\"\n",
        "xtrain,xtest,ytrain,ytest = train_test_split(X_train,y_train, test_size=0.2,random_state=0)\n",
        "\n",
        "classifiers = [\n",
        "    ('KNN', KNeighborsClassifier()),\n",
        "    ('KNN bagging', BaggingClassifier(base_estimator = KNeighborsClassifier(), max_samples=0.5, max_features=0.5)),\n",
        "    ('decision tree', DecisionTreeClassifier()),\n",
        "    ('random forests', RandomForestClassifier()),\n",
        "    ('Adaboost', AdaBoostClassifier(n_estimators=50)),\n",
        "    ('MNB', MultinomialNB(alpha=0.01)),\n",
        "    ('Bernoulli NB', BernoulliNB(alpha=0.01)),\n",
        "    ('Linear SVC', LinearSVC(tol=1e-5)),\n",
        "    ('SVC with bagging', BaggingClassifier(base_estimator = LinearSVC(), max_samples=0.5, max_features=0.5))\n",
        "    ]\n",
        "#############################################################################\n",
        "for model_name, model in classifiers:\n",
        "  classifier = model\n",
        "  print(model_name)\n",
        "  pipeline_clf = Pipeline([\n",
        "                           ('vect', CountVectorizer(tokenizer=New_LemmaTokenizer(), \n",
        "                                                    stop_words = my_stop_words)),\n",
        "                           ('tfidf', TfidfTransformer(norm = 'l1')),\n",
        "                           ('norm', Normalizer()),\n",
        "                           ('clf', classifier)\n",
        "                           \n",
        "  ])\n",
        "  pipeline_clf.fit(xtrain,ytrain)\n",
        "  prediction_clf = pipeline_clf.predict(xtest)\n",
        "  print(classification_report(ytest,prediction_clf))\n",
        "  print('\\n',accuracy_score(ytest,prediction_clf))\n",
        "  print()\n",
        "  print('.'*80,'\\n')"
      ],
      "execution_count": null,
      "outputs": []
    },
    {
      "cell_type": "markdown",
      "metadata": {
        "id": "rqZQIwBOyeDQ"
      },
      "source": [
        "# **B. Best hyperparamters: MNB**"
      ]
    },
    {
      "cell_type": "code",
      "metadata": {
        "id": "mkuYIeVJe0Mz",
        "outputId": "7ca0302a-ff4f-46e4-df29-8c249a75c0e2",
        "colab": {
          "base_uri": "https://localhost:8080/"
        }
      },
      "source": [
        "\"\"\"\n",
        "To find the best hyper paramters\n",
        "\"\"\"\n",
        "\n",
        "pipeline = Pipeline([\n",
        "    ('vect', CountVectorizer()),\n",
        "    ('tfidf', TfidfTransformer()),\n",
        "    ('norm', Normalizer()),\n",
        "    ('clf', MultinomialNB()),\n",
        "])\n",
        "\n",
        "parameters = {\n",
        "    'vect__strip_accents' : ('unicode', False),\n",
        "    'vect__max_df' : (0.5, 0.75,1.0),\n",
        "    'vect__min_df':(1,2),\n",
        "    'vect__binary':(True, False),\n",
        "    'vect__ngram_range': ((1, 1), (1, 2)),\n",
        "    'tfidf__norm': ('l1', 'l2'),\n",
        "    'clf__alpha': (0.005, 0.01,0.1, 1),\n",
        "}\n",
        "#####################################################################\n",
        "\n",
        "print(\"Performing grid search\")\n",
        "print('.'*100)\n",
        "grid_search = GridSearchCV(pipeline, parameters, cv =5)\n",
        "grid_search.fit(X_train, y_train)\n",
        "print(\"Best score: %0.3f\" % grid_search.best_score_)\n",
        "print(\"Best parameters set:\")\n",
        "best_parameters = grid_search.best_estimator_.get_params()\n",
        "for param_name in sorted(parameters.keys()):\n",
        "  print(\"\\t%s: %r\" % (param_name, best_parameters[param_name]))"
      ],
      "execution_count": null,
      "outputs": [
        {
          "output_type": "stream",
          "text": [
            "Performing grid search\n",
            "....................................................................................................\n",
            "Best score: 0.889\n",
            "Best parameters set:\n",
            "\tclf__alpha: 0.01\n",
            "\ttfidf__norm: 'l1'\n",
            "\tvect__binary: False\n",
            "\tvect__max_df: 0.75\n",
            "\tvect__min_df: 1\n",
            "\tvect__ngram_range: (1, 1)\n",
            "\tvect__strip_accents: False\n"
          ],
          "name": "stdout"
        }
      ]
    },
    {
      "cell_type": "code",
      "metadata": {
        "id": "nJdsjbxnKqdZ",
        "outputId": "c6ee01e7-0d55-442e-a65b-4f4fab14655e",
        "colab": {
          "base_uri": "https://localhost:8080/"
        }
      },
      "source": [
        "\"\"\"\n",
        "Checking without TFID transformer\n",
        "\"\"\"\n",
        "\n",
        "pipeline_MNB_2 = Pipeline([\n",
        "    ('vect', CountVectorizer(tokenizer=New_LemmaTokenizer(), \n",
        "                             stop_words=my_stop_words,)),\n",
        "                             \n",
        "    ('norm', Normalizer()),\n",
        "    ('clf', MultinomialNB(alpha = 0.01)),\n",
        "])\n",
        "\n",
        "parameters_MNB_2 = {\n",
        "    'vect__max_df' : (0.5,0.75, 1)\n",
        "}\n",
        "#####################################################################\n",
        "print(\"Performing grid search\")\n",
        "print('.'*100)\n",
        "grid_search_MNB_2 = GridSearchCV(pipeline_MNB_2, parameters_MNB_2, cv=5)\n",
        "grid_search_MNB_2.fit(X_train, y_train)\n",
        "print(\"Best score: %0.3f\" % grid_search_MNB_2.best_score_)\n",
        "print(\"Best parameters set:\")\n",
        "best_parameters_MNB_2 = grid_search_MNB_2.best_estimator_.get_params()\n",
        "for param_name in sorted(parameters_MNB_2.keys()):\n",
        "  print(\"\\t%s: %r\" % (param_name, best_parameters_MNB_2[param_name]))"
      ],
      "execution_count": null,
      "outputs": [
        {
          "output_type": "stream",
          "text": [
            "Performing grid search\n",
            "....................................................................................................\n"
          ],
          "name": "stdout"
        },
        {
          "output_type": "stream",
          "text": [
            "/usr/local/lib/python3.6/dist-packages/sklearn/feature_extraction/text.py:385: UserWarning: Your stop_words may be inconsistent with your preprocessing. Tokenizing the stop words generated tokens ['far', 'make', 'u'] not in stop_words.\n",
            "  'stop_words.' % sorted(inconsistent))\n",
            "/usr/local/lib/python3.6/dist-packages/sklearn/feature_extraction/text.py:385: UserWarning: Your stop_words may be inconsistent with your preprocessing. Tokenizing the stop words generated tokens ['far', 'make', 'u'] not in stop_words.\n",
            "  'stop_words.' % sorted(inconsistent))\n",
            "/usr/local/lib/python3.6/dist-packages/sklearn/feature_extraction/text.py:385: UserWarning: Your stop_words may be inconsistent with your preprocessing. Tokenizing the stop words generated tokens ['far', 'make', 'u'] not in stop_words.\n",
            "  'stop_words.' % sorted(inconsistent))\n",
            "/usr/local/lib/python3.6/dist-packages/sklearn/feature_extraction/text.py:385: UserWarning: Your stop_words may be inconsistent with your preprocessing. Tokenizing the stop words generated tokens ['far', 'make', 'u'] not in stop_words.\n",
            "  'stop_words.' % sorted(inconsistent))\n",
            "/usr/local/lib/python3.6/dist-packages/sklearn/feature_extraction/text.py:385: UserWarning: Your stop_words may be inconsistent with your preprocessing. Tokenizing the stop words generated tokens ['far', 'make', 'u'] not in stop_words.\n",
            "  'stop_words.' % sorted(inconsistent))\n",
            "/usr/local/lib/python3.6/dist-packages/sklearn/feature_extraction/text.py:385: UserWarning: Your stop_words may be inconsistent with your preprocessing. Tokenizing the stop words generated tokens ['far', 'make', 'u'] not in stop_words.\n",
            "  'stop_words.' % sorted(inconsistent))\n",
            "/usr/local/lib/python3.6/dist-packages/sklearn/feature_extraction/text.py:385: UserWarning: Your stop_words may be inconsistent with your preprocessing. Tokenizing the stop words generated tokens ['far', 'make', 'u'] not in stop_words.\n",
            "  'stop_words.' % sorted(inconsistent))\n",
            "/usr/local/lib/python3.6/dist-packages/sklearn/feature_extraction/text.py:385: UserWarning: Your stop_words may be inconsistent with your preprocessing. Tokenizing the stop words generated tokens ['far', 'make', 'u'] not in stop_words.\n",
            "  'stop_words.' % sorted(inconsistent))\n",
            "/usr/local/lib/python3.6/dist-packages/sklearn/feature_extraction/text.py:385: UserWarning: Your stop_words may be inconsistent with your preprocessing. Tokenizing the stop words generated tokens ['far', 'make', 'u'] not in stop_words.\n",
            "  'stop_words.' % sorted(inconsistent))\n",
            "/usr/local/lib/python3.6/dist-packages/sklearn/feature_extraction/text.py:385: UserWarning: Your stop_words may be inconsistent with your preprocessing. Tokenizing the stop words generated tokens ['far', 'make', 'u'] not in stop_words.\n",
            "  'stop_words.' % sorted(inconsistent))\n",
            "/usr/local/lib/python3.6/dist-packages/sklearn/feature_extraction/text.py:385: UserWarning: Your stop_words may be inconsistent with your preprocessing. Tokenizing the stop words generated tokens ['far', 'make', 'u'] not in stop_words.\n",
            "  'stop_words.' % sorted(inconsistent))\n",
            "/usr/local/lib/python3.6/dist-packages/sklearn/feature_extraction/text.py:385: UserWarning: Your stop_words may be inconsistent with your preprocessing. Tokenizing the stop words generated tokens ['far', 'make', 'u'] not in stop_words.\n",
            "  'stop_words.' % sorted(inconsistent))\n",
            "/usr/local/lib/python3.6/dist-packages/sklearn/feature_extraction/text.py:385: UserWarning: Your stop_words may be inconsistent with your preprocessing. Tokenizing the stop words generated tokens ['far', 'make', 'u'] not in stop_words.\n",
            "  'stop_words.' % sorted(inconsistent))\n",
            "/usr/local/lib/python3.6/dist-packages/sklearn/feature_extraction/text.py:385: UserWarning: Your stop_words may be inconsistent with your preprocessing. Tokenizing the stop words generated tokens ['far', 'make', 'u'] not in stop_words.\n",
            "  'stop_words.' % sorted(inconsistent))\n",
            "/usr/local/lib/python3.6/dist-packages/sklearn/feature_extraction/text.py:385: UserWarning: Your stop_words may be inconsistent with your preprocessing. Tokenizing the stop words generated tokens ['far', 'make', 'u'] not in stop_words.\n",
            "  'stop_words.' % sorted(inconsistent))\n",
            "/usr/local/lib/python3.6/dist-packages/sklearn/feature_extraction/text.py:385: UserWarning: Your stop_words may be inconsistent with your preprocessing. Tokenizing the stop words generated tokens ['far', 'make', 'u'] not in stop_words.\n",
            "  'stop_words.' % sorted(inconsistent))\n"
          ],
          "name": "stderr"
        },
        {
          "output_type": "stream",
          "text": [
            "Best score: 0.884\n",
            "Best parameters set:\n",
            "\tvect__max_df: 0.5\n"
          ],
          "name": "stdout"
        }
      ]
    },
    {
      "cell_type": "markdown",
      "metadata": {
        "id": "kcMW_yEKtyo6"
      },
      "source": [
        "# **C. Best Hyperparamters: LinearSVC**"
      ]
    },
    {
      "cell_type": "code",
      "metadata": {
        "id": "Y5USLCmAFyyu",
        "outputId": "5fa09ed4-1b76-4f30-d06d-65cffae65a5e",
        "colab": {
          "base_uri": "https://localhost:8080/"
        }
      },
      "source": [
        "pipeline_SVC = Pipeline([\n",
        "    ('vect', CountVectorizer()),\n",
        "    ('tfidf', TfidfTransformer()),\n",
        "    ('norm', Normalizer()),\n",
        "    ('clf', LinearSVC()),\n",
        "])\n",
        "\n",
        "parameters_SVC = {\n",
        "    'vect__strip_accents' : ('unicode', False),\n",
        "    'vect__max_df' : (0.5,0.75,0.95,1.0),\n",
        "    'vect__min_df':(1,2),\n",
        "    'tfidf__norm': ('l1', 'l2'),\n",
        "    'clf__tol' : (1e-5,1e-6),\n",
        "    'clf__C': (0.1, 0.5, 1,2,5),\n",
        "    'clf__random_state' :(False, 0)\n",
        "    \n",
        "}\n",
        "#####################################################################\n",
        "print(\"Performing grid search\")\n",
        "print('.'*100)\n",
        "grid_search_SVC = GridSearchCV(pipeline_SVC, parameters_SVC, cv = 5)\n",
        "grid_search_SVC.fit(X_train, y_train)\n",
        "print(\"Best score: %0.3f\" % grid_search_SVC.best_score_)\n",
        "print(\"Best parameters set:\")\n",
        "best_parameters_SVC = grid_search_SVC.best_estimator_.get_params()\n",
        "for param_name in sorted(parameters_SVC.keys()):\n",
        "  print(\"\\t%s: %r\" % (param_name, best_parameters_SVC[param_name]))"
      ],
      "execution_count": null,
      "outputs": [
        {
          "output_type": "stream",
          "text": [
            "Performing grid search\n",
            "....................................................................................................\n",
            "Best score: 0.903\n",
            "Best parameters set:\n",
            "\tclf__C: 1\n",
            "\tclf__random_state: False\n",
            "\tclf__tol: 1e-05\n",
            "\ttfidf__norm: 'l1'\n",
            "\tvect__max_df: 0.95\n",
            "\tvect__min_df: 1\n",
            "\tvect__strip_accents: 'unicode'\n"
          ],
          "name": "stdout"
        }
      ]
    },
    {
      "cell_type": "markdown",
      "metadata": {
        "id": "SSnN-ZL6eem8"
      },
      "source": [
        "# **D. Best Hyperparamters: Random Forest**"
      ]
    },
    {
      "cell_type": "code",
      "metadata": {
        "id": "Y6kSB0JVeh7y",
        "outputId": "1c3f4d84-f529-4e04-d614-a000c4b9fde3",
        "colab": {
          "base_uri": "https://localhost:8080/"
        }
      },
      "source": [
        "pipeline_rf = Pipeline([\n",
        "    ('vect', CountVectorizer()),\n",
        "    ('tfidf', TfidfTransformer()),\n",
        "    ('norm', Normalizer()),\n",
        "    ('clf', RandomForestClassifier()),\n",
        "])\n",
        "\n",
        "parameters_rf = {\n",
        "    'vect__strip_accents' : ('unicode', False),\n",
        "    'vect__max_df' : (0.5,0.75,0.95,1.0),\n",
        "    'clf__max_depth' : (2,5,10,100,200),\n",
        "    'clf__random_state' :(False, 0)\n",
        "    \n",
        "}\n",
        "#####################################################################\n",
        "print(\"Performing grid search\")\n",
        "print('.'*100)\n",
        "grid_search_rf = GridSearchCV(pipeline_rf, parameters_rf, cv = 5)\n",
        "grid_search_rf.fit(X_train, y_train)\n",
        "print(\"Best score: %0.3f\" % grid_search_rf.best_score_)\n",
        "print(\"Best parameters set:\")\n",
        "best_parameters_rf = grid_search_rf.best_estimator_.get_params()\n",
        "for param_name in sorted(parameters_rf.keys()):\n",
        "  print(\"\\t%s: %r\" % (param_name, best_parameters_rf[param_name]))"
      ],
      "execution_count": null,
      "outputs": [
        {
          "output_type": "stream",
          "text": [
            "Performing grid search\n",
            "....................................................................................................\n",
            "Best score: 0.808\n",
            "Best parameters set:\n",
            "\tclf__max_depth: 200\n",
            "\tclf__random_state: False\n",
            "\tvect__max_df: 0.5\n",
            "\tvect__strip_accents: 'unicode'\n"
          ],
          "name": "stdout"
        }
      ]
    },
    {
      "cell_type": "markdown",
      "metadata": {
        "id": "bt4mUeuh_3h9"
      },
      "source": [
        "# **E. Meta Classifiers**"
      ]
    },
    {
      "cell_type": "code",
      "metadata": {
        "id": "JHxeuFKO_1_A"
      },
      "source": [
        "\"\"\"\n",
        "estimators: MNB, Linear SVC\n",
        "Final classifer: Logistic Regression\n",
        "\"\"\"\n",
        "xtrain,xtest,ytrain,ytest = train_test_split(X_train,y_train, test_size=0.2,random_state=0)\n",
        "pip_MNB = Pipeline([('vect_MNB',CountVectorizer(tokenizer=New_LemmaTokenizer(),\n",
        "                                                stop_words=my_stop_words,\n",
        "                                                max_df = 0.5)),\n",
        "                    ('tfidf_MNB',TfidfTransformer(norm = 'l1')),\n",
        "                    ('norm_MNB', Normalizer()),\n",
        "                    ('clf_MNB', MultinomialNB(alpha = 0.01))\n",
        "])\n",
        "pip_SVC = Pipeline([('vect_SVC',CountVectorizer(strip_accents='unicode',\n",
        "                                                tokenizer=New_LemmaTokenizer(),\n",
        "                                                stop_words=my_stop_words,\n",
        "                                                max_df = 0.95)),\n",
        "                    ('tfidf_SVC',TfidfTransformer(norm = 'l1')),\n",
        "                    ('norm_SVC', Normalizer()),\n",
        "                    ('clf_SVC', LinearSVC())\n",
        "])\n",
        "\n",
        "estimators = [\n",
        "              ('MNB', pip_MNB),\n",
        "              ('Linear SVC', pip_SVC),\n",
        "]\n",
        "meta_clf = StackingClassifier(\n",
        "                              estimators = estimators,\n",
        "                              final_estimator=LogisticRegression(max_iter=200)    \n",
        ")\n",
        "meta_clf_score = meta_clf.fit(xtrain, ytrain).score(xtest, ytest)\n",
        "print(meta_clf_score)\n"
      ],
      "execution_count": null,
      "outputs": []
    },
    {
      "cell_type": "code",
      "metadata": {
        "id": "JDl_O2rnFBZj",
        "outputId": "6e2a45a0-9086-4395-e18d-7abf9ac5360e",
        "colab": {
          "base_uri": "https://localhost:8080/"
        }
      },
      "source": [
        "\"\"\"\n",
        "estimators: MNB, Linear SVC\n",
        "Final Classifier: SGD\n",
        "\"\"\"\n",
        "xtrain,xtest,ytrain,ytest = train_test_split(X_train,y_train, test_size=0.2,random_state=0)\n",
        "pip_MNB = Pipeline([('vect_MNB',CountVectorizer(tokenizer=New_LemmaTokenizer(),\n",
        "                                                stop_words=my_stop_words,\n",
        "                                                max_df = 0.5)),\n",
        "                    ('tfidf_MNB',TfidfTransformer(norm = 'l1')),\n",
        "                    ('norm_MNB', Normalizer()),\n",
        "                    ('clf_MNB', MultinomialNB(alpha = 0.01))\n",
        "])\n",
        "pip_SVC = Pipeline([('vect_SVC',CountVectorizer(tokenizer=New_LemmaTokenizer(),\n",
        "                                                stop_words=my_stop_words,\n",
        "                                                max_df = 0.95)),\n",
        "                    ('tfidf_SVC',TfidfTransformer(norm = 'l1')),\n",
        "                    ('norm_SVC', Normalizer()),\n",
        "                    ('clf_SVC', LinearSVC())\n",
        "])\n",
        "\n",
        "estimators = [\n",
        "              ('MNB', pip_MNB),\n",
        "              ('Linear SVC', pip_SVC),\n",
        "]\n",
        "meta_clf = StackingClassifier(\n",
        "                              estimators = estimators,\n",
        "                              final_estimator=SGDClassifier()    \n",
        ")\n",
        "meta_clf_score = meta_clf.fit(xtrain, ytrain).score(xtest, ytest)\n",
        "print(meta_clf_score)\n"
      ],
      "execution_count": null,
      "outputs": [
        {
          "output_type": "stream",
          "text": [
            "/usr/local/lib/python3.6/dist-packages/sklearn/feature_extraction/text.py:385: UserWarning: Your stop_words may be inconsistent with your preprocessing. Tokenizing the stop words generated tokens ['far', 'make', 'u'] not in stop_words.\n",
            "  'stop_words.' % sorted(inconsistent))\n",
            "/usr/local/lib/python3.6/dist-packages/sklearn/feature_extraction/text.py:385: UserWarning: Your stop_words may be inconsistent with your preprocessing. Tokenizing the stop words generated tokens ['far', 'make', 'u'] not in stop_words.\n",
            "  'stop_words.' % sorted(inconsistent))\n",
            "/usr/local/lib/python3.6/dist-packages/sklearn/feature_extraction/text.py:385: UserWarning: Your stop_words may be inconsistent with your preprocessing. Tokenizing the stop words generated tokens ['far', 'make', 'u'] not in stop_words.\n",
            "  'stop_words.' % sorted(inconsistent))\n",
            "/usr/local/lib/python3.6/dist-packages/sklearn/feature_extraction/text.py:385: UserWarning: Your stop_words may be inconsistent with your preprocessing. Tokenizing the stop words generated tokens ['far', 'make', 'u'] not in stop_words.\n",
            "  'stop_words.' % sorted(inconsistent))\n",
            "/usr/local/lib/python3.6/dist-packages/sklearn/feature_extraction/text.py:385: UserWarning: Your stop_words may be inconsistent with your preprocessing. Tokenizing the stop words generated tokens ['far', 'make', 'u'] not in stop_words.\n",
            "  'stop_words.' % sorted(inconsistent))\n",
            "/usr/local/lib/python3.6/dist-packages/sklearn/feature_extraction/text.py:385: UserWarning: Your stop_words may be inconsistent with your preprocessing. Tokenizing the stop words generated tokens ['far', 'make', 'u'] not in stop_words.\n",
            "  'stop_words.' % sorted(inconsistent))\n",
            "/usr/local/lib/python3.6/dist-packages/sklearn/feature_extraction/text.py:385: UserWarning: Your stop_words may be inconsistent with your preprocessing. Tokenizing the stop words generated tokens ['far', 'make', 'u'] not in stop_words.\n",
            "  'stop_words.' % sorted(inconsistent))\n",
            "/usr/local/lib/python3.6/dist-packages/sklearn/feature_extraction/text.py:385: UserWarning: Your stop_words may be inconsistent with your preprocessing. Tokenizing the stop words generated tokens ['far', 'make', 'u'] not in stop_words.\n",
            "  'stop_words.' % sorted(inconsistent))\n",
            "/usr/local/lib/python3.6/dist-packages/sklearn/feature_extraction/text.py:385: UserWarning: Your stop_words may be inconsistent with your preprocessing. Tokenizing the stop words generated tokens ['far', 'make', 'u'] not in stop_words.\n",
            "  'stop_words.' % sorted(inconsistent))\n",
            "/usr/local/lib/python3.6/dist-packages/sklearn/feature_extraction/text.py:385: UserWarning: Your stop_words may be inconsistent with your preprocessing. Tokenizing the stop words generated tokens ['far', 'make', 'u'] not in stop_words.\n",
            "  'stop_words.' % sorted(inconsistent))\n",
            "/usr/local/lib/python3.6/dist-packages/sklearn/feature_extraction/text.py:385: UserWarning: Your stop_words may be inconsistent with your preprocessing. Tokenizing the stop words generated tokens ['far', 'make', 'u'] not in stop_words.\n",
            "  'stop_words.' % sorted(inconsistent))\n",
            "/usr/local/lib/python3.6/dist-packages/sklearn/feature_extraction/text.py:385: UserWarning: Your stop_words may be inconsistent with your preprocessing. Tokenizing the stop words generated tokens ['far', 'make', 'u'] not in stop_words.\n",
            "  'stop_words.' % sorted(inconsistent))\n"
          ],
          "name": "stderr"
        },
        {
          "output_type": "stream",
          "text": [
            "0.8946914113077256\n"
          ],
          "name": "stdout"
        }
      ]
    },
    {
      "cell_type": "code",
      "metadata": {
        "id": "ryO2sqQNQRPZ",
        "outputId": "b4959677-9010-43a3-c464-804c8fded09f",
        "colab": {
          "base_uri": "https://localhost:8080/"
        }
      },
      "source": [
        "\"\"\"\n",
        "estimators: MNB, Linear SVC, Random Forest\n",
        "Final classifer: Logistic Regression(max_iter = 200)\n",
        "\"\"\"\n",
        "xtrain,xtest,ytrain,ytest = train_test_split(X_train,y_train, test_size=0.2,random_state=0)\n",
        "pip_MNB = Pipeline([('vect_MNB',CountVectorizer(tokenizer=New_LemmaTokenizer(),\n",
        "                                                stop_words=my_stop_words,\n",
        "                                                max_df = 0.75)),\n",
        "                    ('tfidf_MNB',TfidfTransformer(norm = 'l1')),\n",
        "                    ('norm_MNB', Normalizer()),\n",
        "                    ('clf_MNB', MultinomialNB(alpha = 0.01))\n",
        "])\n",
        "pip_SVC = Pipeline([('vect_SVC',CountVectorizer(tokenizer=New_LemmaTokenizer(),\n",
        "                                                stop_words=my_stop_words,\n",
        "                                                max_df = 0.95)),\n",
        "                    ('tfidf_SVC',TfidfTransformer(norm = 'l1')),\n",
        "                    ('norm_SVC', Normalizer()),\n",
        "                    ('clf_SVC', LinearSVC())\n",
        "])\n",
        "pip_rfC = Pipeline([('vect_rf',CountVectorizer(strip_accents='unicode',\n",
        "                                               tokenizer=New_LemmaTokenizer(),\n",
        "                                               stop_words=my_stop_words,\n",
        "                                               max_df = 0.5)),\n",
        "                    ('tfidf_rf',TfidfTransformer(norm = 'l1')),\n",
        "                    ('norm_rf', Normalizer()),\n",
        "                    ('clf_rf', RandomForestClassifier(max_depth=200))\n",
        "])\n",
        "\n",
        "estimators = [\n",
        "              ('MNB', pip_MNB),\n",
        "              ('Linear SVC', pip_SVC),\n",
        "              ('Random Forest', pip_rfC)\n",
        "]\n",
        "meta_clf = StackingClassifier(\n",
        "                              estimators = estimators,\n",
        "                              final_estimator=LogisticRegression(max_iter=100)    \n",
        ")\n",
        "meta_clf_score = meta_clf.fit(xtrain, ytrain).score(xtest, ytest)\n",
        "print(meta_clf_score)\n",
        "final_fit = meta_clf.fit(X_train, y_train)\n",
        "final_predict = meta_clf.predict(X_test)"
      ],
      "execution_count": null,
      "outputs": [
        {
          "output_type": "stream",
          "text": [
            "/usr/local/lib/python3.6/dist-packages/sklearn/linear_model/_logistic.py:940: ConvergenceWarning: lbfgs failed to converge (status=1):\n",
            "STOP: TOTAL NO. of ITERATIONS REACHED LIMIT.\n",
            "\n",
            "Increase the number of iterations (max_iter) or scale the data as shown in:\n",
            "    https://scikit-learn.org/stable/modules/preprocessing.html\n",
            "Please also refer to the documentation for alternative solver options:\n",
            "    https://scikit-learn.org/stable/modules/linear_model.html#logistic-regression\n",
            "  extra_warning_msg=_LOGISTIC_SOLVER_CONVERGENCE_MSG)\n"
          ],
          "name": "stderr"
        },
        {
          "output_type": "stream",
          "text": [
            "0.9132498921018558\n"
          ],
          "name": "stdout"
        }
      ]
    },
    {
      "cell_type": "markdown",
      "metadata": {
        "id": "n80xdfIGKBp6"
      },
      "source": [
        "# **3. Final Prediction**"
      ]
    },
    {
      "cell_type": "code",
      "metadata": {
        "id": "9wse5KN4-JuM",
        "outputId": "16a7b0b2-8cb1-440b-eaf1-c60bbee204b5",
        "colab": {
          "base_uri": "https://localhost:8080/",
          "height": 17
        }
      },
      "source": [
        "meta_clf_predict = pd.DataFrame(final_predict)\n",
        "meta_clf_predict.to_csv('meta_clf_predict_0.75_2.csv')\n",
        "files.download('meta_clf_predict_0.75_2.csv')"
      ],
      "execution_count": null,
      "outputs": [
        {
          "output_type": "display_data",
          "data": {
            "application/javascript": [
              "\n",
              "    async function download(id, filename, size) {\n",
              "      if (!google.colab.kernel.accessAllowed) {\n",
              "        return;\n",
              "      }\n",
              "      const div = document.createElement('div');\n",
              "      const label = document.createElement('label');\n",
              "      label.textContent = `Downloading \"${filename}\": `;\n",
              "      div.appendChild(label);\n",
              "      const progress = document.createElement('progress');\n",
              "      progress.max = size;\n",
              "      div.appendChild(progress);\n",
              "      document.body.appendChild(div);\n",
              "\n",
              "      const buffers = [];\n",
              "      let downloaded = 0;\n",
              "\n",
              "      const channel = await google.colab.kernel.comms.open(id);\n",
              "      // Send a message to notify the kernel that we're ready.\n",
              "      channel.send({})\n",
              "\n",
              "      for await (const message of channel.messages) {\n",
              "        // Send a message to notify the kernel that we're ready.\n",
              "        channel.send({})\n",
              "        if (message.buffers) {\n",
              "          for (const buffer of message.buffers) {\n",
              "            buffers.push(buffer);\n",
              "            downloaded += buffer.byteLength;\n",
              "            progress.value = downloaded;\n",
              "          }\n",
              "        }\n",
              "      }\n",
              "      const blob = new Blob(buffers, {type: 'application/binary'});\n",
              "      const a = document.createElement('a');\n",
              "      a.href = window.URL.createObjectURL(blob);\n",
              "      a.download = filename;\n",
              "      div.appendChild(a);\n",
              "      a.click();\n",
              "      div.remove();\n",
              "    }\n",
              "  "
            ],
            "text/plain": [
              "<IPython.core.display.Javascript object>"
            ]
          },
          "metadata": {
            "tags": []
          }
        },
        {
          "output_type": "display_data",
          "data": {
            "application/javascript": [
              "download(\"download_d31b58c0-8509-46f2-b590-647c909504fd\", \"meta_clf_predict_0.75_2.csv\", 35757)"
            ],
            "text/plain": [
              "<IPython.core.display.Javascript object>"
            ]
          },
          "metadata": {
            "tags": []
          }
        }
      ]
    }
  ]
}